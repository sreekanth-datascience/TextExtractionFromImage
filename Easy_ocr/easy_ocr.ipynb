{
 "cells": [
  {
   "cell_type": "code",
   "execution_count": 1,
   "id": "098f0477",
   "metadata": {},
   "outputs": [
    {
     "name": "stdout",
     "output_type": "stream",
     "text": [
      "Requirement already satisfied: easyocr in /opt/anaconda3/lib/python3.8/site-packages (1.4.1)\n",
      "Requirement already satisfied: scipy in /opt/anaconda3/lib/python3.8/site-packages (from easyocr) (1.6.2)\n",
      "Requirement already satisfied: python-bidi in /opt/anaconda3/lib/python3.8/site-packages (from easyocr) (0.4.2)\n",
      "Requirement already satisfied: Pillow<8.3.0 in /opt/anaconda3/lib/python3.8/site-packages (from easyocr) (8.2.0)\n",
      "Requirement already satisfied: opencv-python-headless in /opt/anaconda3/lib/python3.8/site-packages (from easyocr) (4.5.3.56)\n",
      "Requirement already satisfied: PyYAML in /opt/anaconda3/lib/python3.8/site-packages (from easyocr) (5.4.1)\n",
      "Requirement already satisfied: torch in /opt/anaconda3/lib/python3.8/site-packages (from easyocr) (1.9.0)\n",
      "Requirement already satisfied: torchvision>=0.5 in /opt/anaconda3/lib/python3.8/site-packages (from easyocr) (0.10.0)\n",
      "Requirement already satisfied: numpy in /opt/anaconda3/lib/python3.8/site-packages (from easyocr) (1.19.5)\n",
      "Requirement already satisfied: scikit-image in /opt/anaconda3/lib/python3.8/site-packages (from easyocr) (0.17.2)\n",
      "Requirement already satisfied: typing-extensions in /opt/anaconda3/lib/python3.8/site-packages (from torch->easyocr) (3.7.4.3)\n",
      "Requirement already satisfied: six in /opt/anaconda3/lib/python3.8/site-packages (from python-bidi->easyocr) (1.15.0)\n",
      "Requirement already satisfied: tifffile>=2019.7.26 in /opt/anaconda3/lib/python3.8/site-packages (from scikit-image->easyocr) (2020.10.1)\n",
      "Requirement already satisfied: PyWavelets>=1.1.1 in /opt/anaconda3/lib/python3.8/site-packages (from scikit-image->easyocr) (1.1.1)\n",
      "Requirement already satisfied: imageio>=2.3.0 in /opt/anaconda3/lib/python3.8/site-packages (from scikit-image->easyocr) (2.9.0)\n",
      "Requirement already satisfied: networkx>=2.0 in /opt/anaconda3/lib/python3.8/site-packages (from scikit-image->easyocr) (2.5)\n",
      "Requirement already satisfied: matplotlib!=3.0.0,>=2.0.0 in /opt/anaconda3/lib/python3.8/site-packages (from scikit-image->easyocr) (3.3.4)\n",
      "Requirement already satisfied: cycler>=0.10 in /opt/anaconda3/lib/python3.8/site-packages (from matplotlib!=3.0.0,>=2.0.0->scikit-image->easyocr) (0.10.0)\n",
      "Requirement already satisfied: python-dateutil>=2.1 in /opt/anaconda3/lib/python3.8/site-packages (from matplotlib!=3.0.0,>=2.0.0->scikit-image->easyocr) (2.8.1)\n",
      "Requirement already satisfied: pyparsing!=2.0.4,!=2.1.2,!=2.1.6,>=2.0.3 in /opt/anaconda3/lib/python3.8/site-packages (from matplotlib!=3.0.0,>=2.0.0->scikit-image->easyocr) (2.4.7)\n",
      "Requirement already satisfied: kiwisolver>=1.0.1 in /opt/anaconda3/lib/python3.8/site-packages (from matplotlib!=3.0.0,>=2.0.0->scikit-image->easyocr) (1.3.1)\n",
      "Requirement already satisfied: decorator>=4.3.0 in /opt/anaconda3/lib/python3.8/site-packages (from networkx>=2.0->scikit-image->easyocr) (5.0.6)\n"
     ]
    }
   ],
   "source": [
    "!pip install easyocr"
   ]
  },
  {
   "cell_type": "code",
   "execution_count": 9,
   "id": "66987e96",
   "metadata": {},
   "outputs": [
    {
     "name": "stderr",
     "output_type": "stream",
     "text": [
      "CUDA not available - defaulting to CPU. Note: This module is much faster with a GPU.\n"
     ]
    }
   ],
   "source": [
    "reader = easyocr.Reader(['en']) "
   ]
  },
  {
   "cell_type": "code",
   "execution_count": 10,
   "id": "904ba679",
   "metadata": {},
   "outputs": [],
   "source": [
    "def ocr_iteration1(image_path):\n",
    "    \n",
    "    result = reader.readtext(image_path)\n",
    "    for i in range(len(result)):\n",
    "        print(result[i][1])"
   ]
  },
  {
   "cell_type": "code",
   "execution_count": 11,
   "id": "8746f28a",
   "metadata": {},
   "outputs": [
    {
     "name": "stdout",
     "output_type": "stream",
     "text": [
      "NOW TASTIER!\n",
      "Kurkure\n",
      "MASALA\n",
      "MUNCH\n"
     ]
    }
   ],
   "source": [
    "ocr_iteration1('sample1.jpeg')"
   ]
  },
  {
   "cell_type": "code",
   "execution_count": 12,
   "id": "393806e7",
   "metadata": {
    "scrolled": true
   },
   "outputs": [
    {
     "name": "stdout",
     "output_type": "stream",
     "text": [
      "Functional and Technical Requirements Template\n",
      "FuNCTIONAL and TECHNICAL\n",
      "REQUIREMENTS\n",
      "DOcUMENT\n",
      "HMIS Implementation Project\n",
      "<Sample> Implementation Collaborative\n",
      "On behalf of\n",
      "<Sample> Continuum of Care\n",
      "<Sample> Continuum of Care\n",
      "<Sample> Continuum of Care\n",
      "<Sample> Continuum of Care\n",
      "Month; Year\n",
      "Developed by:\n",
      "<Name of Author(s)>\n",
      "<Company Name>\n",
      "2008 HMIS\n",
      "Training: HMIS 101\n",
      "U.S. Department of Housing and Urban Development\n",
      "Page 52\n"
     ]
    }
   ],
   "source": [
    "ocr_iteration1('sample2.jpeg')"
   ]
  },
  {
   "cell_type": "code",
   "execution_count": 14,
   "id": "b30f7026",
   "metadata": {},
   "outputs": [
    {
     "name": "stdout",
     "output_type": "stream",
     "text": [
      "CONTENTSTACk\n",
      "DIvYA\n",
      "PEAChi\n",
      "MACHINE\n",
      "LEARNIN G\n"
     ]
    }
   ],
   "source": [
    "ocr_iteration1('sample4.jpg')"
   ]
  }
 ],
 "metadata": {
  "kernelspec": {
   "display_name": "Python 3",
   "language": "python",
   "name": "python3"
  },
  "language_info": {
   "codemirror_mode": {
    "name": "ipython",
    "version": 3
   },
   "file_extension": ".py",
   "mimetype": "text/x-python",
   "name": "python",
   "nbconvert_exporter": "python",
   "pygments_lexer": "ipython3",
   "version": "3.8.8"
  }
 },
 "nbformat": 4,
 "nbformat_minor": 5
}
